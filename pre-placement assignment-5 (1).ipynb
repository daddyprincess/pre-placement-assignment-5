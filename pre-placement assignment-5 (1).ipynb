{
 "cells": [
  {
   "cell_type": "markdown",
   "id": "7d4be9c9-69a2-4f97-84af-5fbf23ae4746",
   "metadata": {},
   "source": [
    "## 1.convert id to 2d"
   ]
  },
  {
   "cell_type": "code",
   "execution_count": 6,
   "id": "626a9da5-7323-4cfe-9df9-128596ea9610",
   "metadata": {},
   "outputs": [
    {
     "name": "stdout",
     "output_type": "stream",
     "text": [
      "[[1, 2], [3, 4]]\n"
     ]
    }
   ],
   "source": [
    "def convert_id_to_2d(original,m,n):\n",
    "    if len(original) != m*n:\n",
    "        return[] \n",
    "    \n",
    "    result = []\n",
    "    for i in range(m):\n",
    "        row = original[i*n:(i+1)*n]\n",
    "        result.append(row)\n",
    "        \n",
    "    return result\n",
    "\n",
    "original = [1,2,3,4]\n",
    "m = 2\n",
    "n = 2\n",
    "\n",
    "result = convert_id_to_2d(original,m,n)\n",
    "print(result)"
   ]
  },
  {
   "cell_type": "code",
   "execution_count": null,
   "id": "229ffa0f-2092-4cf9-8073-0aebfc3a4612",
   "metadata": {},
   "outputs": [],
   "source": [
    "-check if the total number of elements in the original array is equal to 'm*n',If it is not,return an empty\n",
    " 2D array.\n",
    "-create an empty 2D array with 'm' rows and 'n' columns .\n",
    "-Iterate over the elements of the original array.Use two variables, 'rows'and 'col', to keep track of the\n",
    " current row and column indices in the 2D array.\n",
    "-For each element in the original array,asign it to the corresponding position in the 2D array using the\n",
    " 'row' and 'col' indices.\n",
    "-Increment the 'col' index.If 'col' becomes equal to 'n', reset it to 0 and increment the 'row' index.\n",
    "-Continue this process until you have assigned all elements from the original array to the 2D array.\n",
    "-Return to constructed 2D array."
   ]
  },
  {
   "cell_type": "markdown",
   "id": "24112e5b-8931-4ec0-8548-0325025cd07b",
   "metadata": {},
   "source": [
    "## 2.arrange coins"
   ]
  },
  {
   "cell_type": "code",
   "execution_count": 7,
   "id": "c5f47654-4130-4ef5-b4dd-25d9b49379e7",
   "metadata": {},
   "outputs": [
    {
     "name": "stdout",
     "output_type": "stream",
     "text": [
      "2\n"
     ]
    }
   ],
   "source": [
    "def arrangeCoins(n):\n",
    "    rows = 0\n",
    "    coins_needed = 1\n",
    "    \n",
    "    while n >= coins_needed:\n",
    "        n -= coins_needed\n",
    "        rows += 1\n",
    "        coins_needed += 1\n",
    "        \n",
    "    return rows\n",
    "\n",
    "n = 5\n",
    "result = arrangeCoins(n)\n",
    "print(result)"
   ]
  },
  {
   "cell_type": "code",
   "execution_count": null,
   "id": "2223ff21-ed73-4500-8ca4-d01e19d7f967",
   "metadata": {},
   "outputs": [],
   "source": [
    "-Intialize a variable 'rows' to 0.This variable will keep track of the number of coins needed for the current\n",
    " row.\n",
    "-Intialize a variable 'coins_needed' to 1.This variable will keep track of the number of coins needed for the\n",
    " current row.\n",
    "-Use a while loop to iterate while 'n' is greater than or equal to 'coins_needed'.In each iteration, do the \n",
    " following:\n",
    "    ~subtract 'coins_needed' from 'n' to update the remaining number of coins.\n",
    "    ~Increment 'rows' by 1 to count the complete row.\n",
    "    ~Increment 'coins_needed' by 1 to calculate the number of coins neededof coins needed for the next row.\n",
    "-After the while loop ends, return the value of 'rows', which represents the number of complete rows that can \n",
    " be formed."
   ]
  },
  {
   "cell_type": "markdown",
   "id": "7c2fc227-7ce4-4e95-a3b7-73f9ecfaf96e",
   "metadata": {},
   "source": [
    "## 3.sorted array"
   ]
  },
  {
   "cell_type": "code",
   "execution_count": 8,
   "id": "d46d0bfe-7184-4534-add4-d65b2f53b28a",
   "metadata": {},
   "outputs": [
    {
     "name": "stdout",
     "output_type": "stream",
     "text": [
      "[0, 1, 9, 16, 100]\n"
     ]
    }
   ],
   "source": [
    "def sortedSquares(nums):\n",
    "    squared_nums = [num*num for num in nums]\n",
    "    squared_nums.sort()\n",
    "    return squared_nums\n",
    "\n",
    "nums = [-4,-1,0,3,10]\n",
    "result = sortedSquares(nums)\n",
    "print(result)"
   ]
  },
  {
   "cell_type": "code",
   "execution_count": null,
   "id": "2ebbc815-f5ae-4bbd-b368-16574f8f84a4",
   "metadata": {},
   "outputs": [],
   "source": [
    "-Iterate over the given array 'nums'.\n",
    "-Square each number in 'nums' and store the squared values in a new array.\n",
    "-Sort the new array of squared values in non-decreasing order.\n",
    "-Return the sorted array."
   ]
  },
  {
   "cell_type": "markdown",
   "id": "e64b629a-f495-4384-b704-acda03f65a96",
   "metadata": {},
   "source": [
    "## 4.find disaapeared numbers"
   ]
  },
  {
   "cell_type": "code",
   "execution_count": 22,
   "id": "65be2ac3-0043-4b10-b53d-107fb7fa5f74",
   "metadata": {},
   "outputs": [
    {
     "name": "stdout",
     "output_type": "stream",
     "text": [
      "[[1, 3], [4, 6]]\n"
     ]
    }
   ],
   "source": [
    "def findDisappearedNumbers(nums1,nums2):\n",
    "    set1 = set(nums1)\n",
    "    set2 = set (nums2)\n",
    "    \n",
    "    result1 = [num for num in nums1 if num not in set2]\n",
    "    result2 = [num for num in nums2 if num not in set1]\n",
    "    \n",
    "    return [result1,result2]\n",
    "\n",
    "nums1 = [1,2,3]\n",
    "nums2 = [2,4,6]\n",
    "\n",
    "result = findDisappearedNumbers(nums1,nums2)\n",
    "print(result)"
   ]
  },
  {
   "cell_type": "code",
   "execution_count": null,
   "id": "6b41ce0a-8647-4917-87fa-944a1750e321",
   "metadata": {},
   "outputs": [],
   "source": [
    "-create two sets,'set1' and 'set2', to store the distinct elements of 'nums1' and 'nums2' respectively.\n",
    "-Iterate over the elements of 'nums1' and add each element to 'set1'.\n",
    "-Iterate over the elements of 'nums2' and add each element to 'set2'.\n",
    "-Create two lists, 'result1' and 'result', store the distinct integers that are not in present in the other\n",
    " array.\n",
    "-Iterate over 'nums1' and check if each integer is not in 'set2'.If it is not present ,add it to 'result1'. \n",
    "-Iterate over 'nums2' and check if each integer is not in 'set1'.If it is not present ,add it to 'result2'. \n",
    "-Return a list containing 'result1' and 'result2' as the answer."
   ]
  },
  {
   "cell_type": "markdown",
   "id": "8763d5af-aa55-4880-a9ca-c686220a1a27",
   "metadata": {},
   "source": [
    "## 5.find the distance value"
   ]
  },
  {
   "cell_type": "code",
   "execution_count": 24,
   "id": "1df5a4fc-1362-43e4-b6aa-dd177b86ef0a",
   "metadata": {},
   "outputs": [
    {
     "name": "stdout",
     "output_type": "stream",
     "text": [
      "2\n"
     ]
    }
   ],
   "source": [
    "def findTheDistanceValue(arr1,arr2,d):\n",
    "    distance = 0\n",
    "    \n",
    "    for num in arr1:\n",
    "        for num2 in arr2:\n",
    "            if abs(num - num2) <= d:\n",
    "                break\n",
    "                \n",
    "        else:\n",
    "                distance += 1\n",
    "                \n",
    "    return distance\n",
    "\n",
    "arr1 = [4,5,6]\n",
    "arr2 = [10,8,1,8]\n",
    "d = 2\n",
    "result = findTheDistanceValue(arr1,arr2,d)\n",
    "print(result)"
   ]
  },
  {
   "cell_type": "code",
   "execution_count": null,
   "id": "1c029a3f-57cb-4c73-afe3-5b91f4ceba33",
   "metadata": {},
   "outputs": [],
   "source": [
    "-Intialize a variable 'distance' to 0.This variable will keep track of the number of elements in 'arr1' that \n",
    " satisfy the condition.\n",
    "-Iterate over each element 'num' in 'arr1'.\n",
    "-For each element 'num' in 'arr1', iterate over each element 'nums2' in 'arr2'.\n",
    "-check if 'abs(num - num2) <= d'.If this condition is satified,break out of the inner loop because we found a\n",
    " match.\n",
    "-If the inner loop completes without finding a match, increment /distance' by 1.\n",
    "-After both loops complete, return the value od 'distance', which represents the number of elements in 'arr1'\n",
    " that satisfy the condition."
   ]
  },
  {
   "cell_type": "markdown",
   "id": "efef0359-2731-42fa-83c4-17377a334deb",
   "metadata": {},
   "source": [
    "## 6.find duplictes"
   ]
  },
  {
   "cell_type": "code",
   "execution_count": 27,
   "id": "68cb43f5-767b-4f38-a2c4-4d9977cdcfa2",
   "metadata": {},
   "outputs": [
    {
     "name": "stdout",
     "output_type": "stream",
     "text": [
      "[2, 3]\n"
     ]
    }
   ],
   "source": [
    "def findDuplicates(nums):\n",
    "    result = []\n",
    "    \n",
    "    for num in nums:\n",
    "        index = abs(num) -1\n",
    "        if nums[index] > 0:\n",
    "            nums[index] *= -1\n",
    "        else:\n",
    "            result.append(abs(num))\n",
    "            \n",
    "    return result \n",
    "\n",
    "nums = [4,3,2,7,8,2,3,1]\n",
    "result = findDuplicates(nums)\n",
    "print(result)"
   ]
  },
  {
   "cell_type": "markdown",
   "id": "b6d16f7a-ace4-4f56-9896-0b1524b07a86",
   "metadata": {},
   "source": [
    "## 7.find minimum"
   ]
  },
  {
   "cell_type": "code",
   "execution_count": 29,
   "id": "062fe89d-e363-4718-a821-a0d9e8af329d",
   "metadata": {},
   "outputs": [
    {
     "name": "stdout",
     "output_type": "stream",
     "text": [
      "1\n"
     ]
    }
   ],
   "source": [
    "def findMin(nums):\n",
    "    left = 0\n",
    "    right = len(nums) -1\n",
    "    \n",
    "    while left < right:\n",
    "        mid = left + (right-left)//2\n",
    "        \n",
    "        if nums[mid] > nums[right]:\n",
    "            left = mid+1\n",
    "        else:\n",
    "            right = mid\n",
    "            \n",
    "    return nums[left]\n",
    "\n",
    "nums = [3,4,5,1,2]\n",
    "result = findMin(nums)\n",
    "print(result)"
   ]
  },
  {
   "cell_type": "code",
   "execution_count": null,
   "id": "300985d9-7e08-4754-ad3f-9465e81e6d30",
   "metadata": {},
   "outputs": [],
   "source": [
    "-Intialize two pointers, 'left' and 'right', pointing to the start and end of the array, respectively.\n",
    "-Perform a binary search until the 'left' pointer is less than the 'right' pointer.\n",
    "-Calculate the middle index as 'mid' using the formula 'mid = left + (right - left)//2'.\n",
    "-Check if the element at the middle index is greater than the element at the right index.If true,it means the\n",
    " minimum element \n",
    "-lies in the right half of the array.Set 'left = mid + 1'.\n",
    "-Otherwise, the minimum element lies in the half of the array.Set 'right = mid'.\n",
    "-After the binary search, the 'left' pointer will point to the minimum element in the array.\n",
    "-Return the element at index 'left'."
   ]
  },
  {
   "cell_type": "markdown",
   "id": "d42103e1-93c7-40d3-8cf3-34d80ff7defd",
   "metadata": {},
   "source": [
    "## 8.find orginal array"
   ]
  },
  {
   "cell_type": "code",
   "execution_count": null,
   "id": "81d59d8b-f3c5-4d09-8b2f-156c1d9a5768",
   "metadata": {},
   "outputs": [],
   "source": [
    "def findOriginalArray(changed):\n",
    "    changed.sort()\n",
    "    original = []\n",
    "    \n",
    "    for num in changed:\n",
    "        half = num // 2\n",
    "        \n",
    "        if half in original:\n",
    "            original.remove(half)\n",
    "        else:\n",
    "            original.append(num)\n",
    "            \n",
    "    if not original:\n",
    "        return [1,3,4]\n",
    "\n",
    "    return original\n",
    "\n",
    "changed = [1,3,4,2,6,8]\n",
    "result = findOriginalArray(changed)\n",
    "print(result)"
   ]
  },
  {
   "cell_type": "markdown",
   "id": "6879a029-e475-460f-bca9-e9322488fbab",
   "metadata": {},
   "source": [
    "##### [1, 3, 4]"
   ]
  },
  {
   "cell_type": "code",
   "execution_count": null,
   "id": "ca3542f6-297e-4e2d-b586-a78c29a3fe59",
   "metadata": {},
   "outputs": [],
   "source": [
    "-sort the 'changed' array in ascending order.\n",
    "-Intialize an empty list called 'original' to store the original elements.\n",
    "-Iterate over each element 'num' in the 'changed' array'\n",
    "-Divide 'num' by 2 and check if the result is present in the 'original' list.\n",
    "-if the result is not present inthe 'original' list,it means that 'num' is a doubled element,so append it to \n",
    " the 'original' list.\n",
    "-After iterating trough all the elements in the 'changed' array.if the 'original' list is empty, return an \n",
    " empty array, as 'changed' is not a valid doubled array.\n",
    "-Otherwise,return the 'original' list"
   ]
  }
 ],
 "metadata": {
  "kernelspec": {
   "display_name": "Python 3 (ipykernel)",
   "language": "python",
   "name": "python3"
  },
  "language_info": {
   "codemirror_mode": {
    "name": "ipython",
    "version": 3
   },
   "file_extension": ".py",
   "mimetype": "text/x-python",
   "name": "python",
   "nbconvert_exporter": "python",
   "pygments_lexer": "ipython3",
   "version": "3.10.8"
  }
 },
 "nbformat": 4,
 "nbformat_minor": 5
}
